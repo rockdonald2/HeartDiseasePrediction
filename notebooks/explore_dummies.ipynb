{
 "cells": [
  {
   "cell_type": "code",
   "execution_count": 1,
   "metadata": {},
   "outputs": [],
   "source": [
    "import pandas as pd\n",
    "import numpy as np"
   ]
  },
  {
   "cell_type": "code",
   "execution_count": 2,
   "metadata": {},
   "outputs": [],
   "source": [
    "heart = pd.read_csv('../data/heart_2020_cleaned.csv')"
   ]
  },
  {
   "cell_type": "code",
   "execution_count": 3,
   "metadata": {},
   "outputs": [],
   "source": [
    "heart[['HeartDisease', 'Smoking', 'AlcoholDrinking', 'Stroke', 'DiffWalking', 'PhysicalActivity', 'Asthma', 'KidneyDisease', 'SkinCancer']] = \\\n",
    "    heart[['HeartDisease', 'Smoking', 'AlcoholDrinking', 'Stroke', 'DiffWalking', 'PhysicalActivity', 'Asthma', 'KidneyDisease', 'SkinCancer']].replace(['Yes', 'No'], value=[1, 0])"
   ]
  },
  {
   "cell_type": "code",
   "execution_count": 4,
   "metadata": {},
   "outputs": [],
   "source": [
    "# use get_dummies method to convert all categorical columns into numerical representation\n",
    "heart_dummies = pd.get_dummies(heart)"
   ]
  },
  {
   "cell_type": "code",
   "execution_count": 50,
   "metadata": {},
   "outputs": [],
   "source": [
    "heart_dummies.to_csv('../data/heart_dummies.csv', index=False)"
   ]
  },
  {
   "cell_type": "markdown",
   "metadata": {},
   "source": [
    "# Model training"
   ]
  },
  {
   "cell_type": "code",
   "execution_count": 5,
   "metadata": {},
   "outputs": [],
   "source": [
    "from sklearn.utils import Bunch"
   ]
  },
  {
   "cell_type": "code",
   "execution_count": 6,
   "metadata": {},
   "outputs": [],
   "source": [
    "heart_model_data = Bunch()\n",
    "\n",
    "heart_model_data['target'] = heart_dummies['HeartDisease'].to_list()\n",
    "heart_dummies.drop(columns=['HeartDisease'], inplace=True)\n",
    "\n",
    "heart_model_data['data'] = heart_dummies.values.tolist()\n",
    "\n",
    "heart_model_data['feature_names'] = heart_dummies.columns.to_list()\n",
    "heart_model_data['target_names'] = ['No', 'Yes']"
   ]
  },
  {
   "cell_type": "code",
   "execution_count": 7,
   "metadata": {},
   "outputs": [],
   "source": [
    "test = [heart_dummies.loc[0].to_list(), heart_dummies.loc[5].to_list()] # first didn't have, second had heart problems"
   ]
  },
  {
   "cell_type": "code",
   "execution_count": 8,
   "metadata": {},
   "outputs": [],
   "source": [
    "from sklearn.linear_model import SGDClassifier\n",
    "from sklearn.preprocessing import StandardScaler\n",
    "from sklearn.pipeline import make_pipeline\n",
    "from sklearn.model_selection import train_test_split"
   ]
  },
  {
   "cell_type": "code",
   "execution_count": 9,
   "metadata": {},
   "outputs": [
    {
     "name": "stdout",
     "output_type": "stream",
     "text": [
      "Its score is 0.7189493433395873.\n"
     ]
    }
   ],
   "source": [
    "def try_SGD():\n",
    "    X = heart_model_data.data\n",
    "    y = heart_model_data.target\n",
    "\n",
    "    X_train, X_test, y_train, y_test = train_test_split(X, y, test_size=0.1, random_state=2000)\n",
    "\n",
    "    sgd = make_pipeline(StandardScaler(), SGDClassifier(loss='modified_huber', penalty='l2', max_iter=1000, class_weight='balanced', random_state=0))\n",
    "    sgd.fit(X_train, y_train)\n",
    "\n",
    "    print(f'Its score is {sgd.score(X_test, y_test)}.')\n",
    "\n",
    "    return sgd\n",
    "\n",
    "sgd = try_SGD()"
   ]
  },
  {
   "cell_type": "code",
   "execution_count": 10,
   "metadata": {},
   "outputs": [
    {
     "data": {
      "text/plain": [
       "array([[0.53234597, 0.46765403],\n",
       "       [0.19835945, 0.80164055]])"
      ]
     },
     "execution_count": 10,
     "metadata": {},
     "output_type": "execute_result"
    }
   ],
   "source": [
    "sgd.predict_proba(test)\n",
    "# looks good"
   ]
  },
  {
   "cell_type": "code",
   "execution_count": 11,
   "metadata": {},
   "outputs": [
    {
     "name": "stdout",
     "output_type": "stream",
     "text": [
      "Its score is 0.7651657285803627.\n"
     ]
    }
   ],
   "source": [
    "def try_SGD_log():\n",
    "    X = heart_model_data.data\n",
    "    y = heart_model_data.target\n",
    "\n",
    "    X_train, X_test, y_train, y_test = train_test_split(X, y, test_size=0.1, random_state=2000)\n",
    "\n",
    "    sgd = make_pipeline(StandardScaler(), SGDClassifier(loss='log', penalty='l2', max_iter=1000, class_weight='balanced', random_state=0))\n",
    "    sgd.fit(X_train, y_train)\n",
    "\n",
    "    print(f'Its score is {sgd.score(X_test, y_test)}.')\n",
    "\n",
    "    return sgd\n",
    "\n",
    "sgd_log = try_SGD_log()"
   ]
  },
  {
   "cell_type": "code",
   "execution_count": 12,
   "metadata": {},
   "outputs": [
    {
     "data": {
      "text/plain": [
       "array([[0.43208986, 0.56791014],\n",
       "       [0.45877196, 0.54122804]])"
      ]
     },
     "execution_count": 12,
     "metadata": {},
     "output_type": "execute_result"
    }
   ],
   "source": [
    "sgd_log.predict_proba(test)\n",
    "# bad predictions"
   ]
  },
  {
   "cell_type": "code",
   "execution_count": 13,
   "metadata": {},
   "outputs": [],
   "source": [
    "from sklearn.linear_model import LogisticRegression\n",
    "from sklearn.model_selection import train_test_split\n",
    "from sklearn.preprocessing import StandardScaler\n",
    "from sklearn.pipeline import make_pipeline"
   ]
  },
  {
   "cell_type": "code",
   "execution_count": 14,
   "metadata": {},
   "outputs": [
    {
     "name": "stdout",
     "output_type": "stream",
     "text": [
      "Its score is 0.750093808630394.\n"
     ]
    }
   ],
   "source": [
    "def try_logistic_regression():\n",
    "    X = heart_model_data.data\n",
    "    y = heart_model_data.target\n",
    "\n",
    "    X_train, X_test, y_train, y_test = train_test_split(X, y, test_size=0.1, random_state=2000)\n",
    "\n",
    "    log = make_pipeline(StandardScaler(), LogisticRegression(class_weight='balanced', penalty='l2', random_state=0, max_iter=1000))\n",
    "    log.fit(X_train, y_train)\n",
    "\n",
    "    print(f'Its score is {log.score(X_test, y_test)}.')\n",
    "\n",
    "    return log\n",
    "\n",
    "log = try_logistic_regression()"
   ]
  },
  {
   "cell_type": "code",
   "execution_count": 15,
   "metadata": {},
   "outputs": [
    {
     "data": {
      "text/plain": [
       "array([[0.52487795, 0.47512205],\n",
       "       [0.30856725, 0.69143275]])"
      ]
     },
     "execution_count": 15,
     "metadata": {},
     "output_type": "execute_result"
    }
   ],
   "source": [
    "log.predict_proba(test)\n",
    "# looks good"
   ]
  }
 ],
 "metadata": {
  "interpreter": {
   "hash": "d41e7f9cec6053ad9d66317e7c2a8e67a44fb9eda798af17b5d260bed16822d1"
  },
  "kernelspec": {
   "display_name": "Python 3.10.1 64-bit",
   "language": "python",
   "name": "python3"
  },
  "language_info": {
   "codemirror_mode": {
    "name": "ipython",
    "version": 3
   },
   "file_extension": ".py",
   "mimetype": "text/x-python",
   "name": "python",
   "nbconvert_exporter": "python",
   "pygments_lexer": "ipython3",
   "version": "3.10.1"
  },
  "orig_nbformat": 4
 },
 "nbformat": 4,
 "nbformat_minor": 2
}

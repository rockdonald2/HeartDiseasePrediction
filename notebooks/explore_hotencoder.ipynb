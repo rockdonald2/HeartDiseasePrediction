{
 "cells": [
  {
   "cell_type": "code",
   "execution_count": 1,
   "metadata": {},
   "outputs": [],
   "source": [
    "import pandas as pd\n",
    "import numpy as np"
   ]
  },
  {
   "cell_type": "code",
   "execution_count": 2,
   "metadata": {},
   "outputs": [],
   "source": [
    "heart = pd.read_csv('../data/heart_2020_cleaned.csv')"
   ]
  },
  {
   "cell_type": "code",
   "execution_count": 3,
   "metadata": {},
   "outputs": [],
   "source": [
    "heart[['HeartDisease', 'Smoking', 'AlcoholDrinking', 'Stroke', 'DiffWalking', 'PhysicalActivity', 'Asthma', 'KidneyDisease', 'SkinCancer']] = \\\n",
    "    heart[['HeartDisease', 'Smoking', 'AlcoholDrinking', 'Stroke', 'DiffWalking', 'PhysicalActivity', 'Asthma', 'KidneyDisease', 'SkinCancer']].replace(['Yes', 'No'], value=[1, 0])"
   ]
  },
  {
   "cell_type": "code",
   "execution_count": 4,
   "metadata": {},
   "outputs": [],
   "source": [
    "from sklearn.preprocessing import OneHotEncoder"
   ]
  },
  {
   "cell_type": "markdown",
   "metadata": {},
   "source": [
    "# Model training"
   ]
  },
  {
   "cell_type": "code",
   "execution_count": 5,
   "metadata": {},
   "outputs": [],
   "source": [
    "from sklearn.linear_model import SGDClassifier\n",
    "from sklearn.preprocessing import StandardScaler\n",
    "from sklearn.pipeline import make_pipeline\n",
    "from sklearn.model_selection import train_test_split"
   ]
  },
  {
   "cell_type": "code",
   "execution_count": 6,
   "metadata": {},
   "outputs": [],
   "source": [
    "y = heart['HeartDisease']\n",
    "X = heart.drop(columns=['HeartDisease'])"
   ]
  },
  {
   "cell_type": "code",
   "execution_count": 11,
   "metadata": {},
   "outputs": [],
   "source": [
    "test = [X.loc[0], X.loc[5]]"
   ]
  },
  {
   "cell_type": "code",
   "execution_count": 12,
   "metadata": {},
   "outputs": [],
   "source": [
    "def encode_data(data):\n",
    "    encoder = OneHotEncoder(handle_unknown='ignore')\n",
    "    encoder = encoder.fit(X)\n",
    "    return encoder.fit_transform(data)"
   ]
  },
  {
   "cell_type": "code",
   "execution_count": 13,
   "metadata": {},
   "outputs": [],
   "source": [
    "test = [np.array(v).reshape((1, 17)) for v in test]"
   ]
  },
  {
   "cell_type": "code",
   "execution_count": 15,
   "metadata": {},
   "outputs": [],
   "source": [
    "test = [encode_data(v) for v in test]"
   ]
  },
  {
   "cell_type": "code",
   "execution_count": 17,
   "metadata": {},
   "outputs": [
    {
     "name": "stdout",
     "output_type": "stream",
     "text": [
      "Its score is 0.7271106941838649.\n"
     ]
    }
   ],
   "source": [
    "def try_SGD():\n",
    "    X_train, X_test, y_train, y_test = train_test_split(X, y, test_size=0.1, random_state=2000)\n",
    "\n",
    "    encoder = OneHotEncoder(handle_unknown='ignore')\n",
    "    encoder = encoder.fit(X_train)\n",
    "\n",
    "    X_train = encoder.transform(X_train)\n",
    "    X_test = encoder.transform(X_test)\n",
    "\n",
    "    sgd = make_pipeline(StandardScaler(with_mean=False), SGDClassifier(loss='modified_huber', penalty='l2', max_iter=1000, class_weight='balanced', random_state=0))\n",
    "    sgd.fit(X_train, y_train)\n",
    "\n",
    "    print(f'Its score is {sgd.score(X_test, y_test)}.')\n",
    "\n",
    "    return sgd\n",
    "\n",
    "sgd = try_SGD()"
   ]
  },
  {
   "cell_type": "code",
   "execution_count": 25,
   "metadata": {},
   "outputs": [
    {
     "name": "stdout",
     "output_type": "stream",
     "text": [
      "(287815, 17)\n",
      "Its score is 0.724015009380863.\n"
     ]
    }
   ],
   "source": [
    "def try_SGD():\n",
    "    X_train, X_test, y_train, y_test = train_test_split(X, y, test_size=0.1, random_state=2000)\n",
    "\n",
    "    encoder = OneHotEncoder(handle_unknown='ignore')\n",
    "    encoder = encoder.fit(X_train)\n",
    "\n",
    "    X_train = encoder.transform(X_train)\n",
    "    X_test = encoder.transform(X_test)\n",
    "\n",
    "    sgd = make_pipeline(StandardScaler(with_mean=False), SGDClassifier(loss='log', penalty='l2', max_iter=1000, class_weight='balanced', random_state=0))\n",
    "    sgd.fit(X_train, y_train)\n",
    "\n",
    "    print(f'Its score is {sgd.score(X_test, y_test)}.')\n",
    "\n",
    "    return sgd\n",
    "\n",
    "sgd = try_SGD()"
   ]
  },
  {
   "cell_type": "code",
   "execution_count": 10,
   "metadata": {},
   "outputs": [],
   "source": [
    "from sklearn.linear_model import LogisticRegression\n",
    "from sklearn.model_selection import train_test_split\n",
    "from sklearn.preprocessing import StandardScaler\n",
    "from sklearn.pipeline import make_pipeline"
   ]
  },
  {
   "cell_type": "code",
   "execution_count": 12,
   "metadata": {},
   "outputs": [
    {
     "name": "stdout",
     "output_type": "stream",
     "text": [
      "Its score is 0.7537836147592245.\n"
     ]
    }
   ],
   "source": [
    "def try_logistic_regression():\n",
    "    X_train, X_test, y_train, y_test = train_test_split(X, y, test_size=0.1, random_state=2000)\n",
    "\n",
    "    encoder = OneHotEncoder(handle_unknown='ignore')\n",
    "    encoder = encoder.fit(X_train)\n",
    "\n",
    "    X_train = encoder.transform(X_train)\n",
    "    X_test = encoder.transform(X_test)\n",
    "    log = LogisticRegression(class_weight='balanced', penalty='l2', random_state=0, max_iter=1000)\n",
    "    log.fit(X_train, y_train)\n",
    "\n",
    "    print(f'Its score is {log.score(X_test, y_test)}.')\n",
    "\n",
    "    return log\n",
    "\n",
    "log = try_logistic_regression()"
   ]
  },
  {
   "cell_type": "code",
   "execution_count": 18,
   "metadata": {},
   "outputs": [],
   "source": [
    "sgd.predict_proba(test) # timeout"
   ]
  }
 ],
 "metadata": {
  "interpreter": {
   "hash": "d41e7f9cec6053ad9d66317e7c2a8e67a44fb9eda798af17b5d260bed16822d1"
  },
  "kernelspec": {
   "display_name": "Python 3.10.1 64-bit",
   "language": "python",
   "name": "python3"
  },
  "language_info": {
   "codemirror_mode": {
    "name": "ipython",
    "version": 3
   },
   "file_extension": ".py",
   "mimetype": "text/x-python",
   "name": "python",
   "nbconvert_exporter": "python",
   "pygments_lexer": "ipython3",
   "version": "3.10.1"
  },
  "orig_nbformat": 4
 },
 "nbformat": 4,
 "nbformat_minor": 2
}

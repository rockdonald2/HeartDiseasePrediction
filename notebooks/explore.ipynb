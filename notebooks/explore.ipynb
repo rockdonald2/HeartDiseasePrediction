{
 "cells": [
  {
   "cell_type": "code",
   "execution_count": null,
   "metadata": {},
   "outputs": [],
   "source": [
    "!pip install pandas\n",
    "!pip install sklearn"
   ]
  },
  {
   "cell_type": "code",
   "execution_count": 1,
   "metadata": {},
   "outputs": [],
   "source": [
    "import pandas as pd\n",
    "import numpy as np"
   ]
  },
  {
   "cell_type": "code",
   "execution_count": 2,
   "metadata": {},
   "outputs": [],
   "source": [
    "heart = pd.read_csv('../data/heart_2020_cleaned.csv')"
   ]
  },
  {
   "cell_type": "code",
   "execution_count": 3,
   "metadata": {},
   "outputs": [],
   "source": [
    "# convert all yes/no columns to bool\n",
    "heart[['HeartDisease', 'Smoking', 'AlcoholDrinking', 'Stroke', 'DiffWalking', 'Diabetic', 'PhysicalActivity', 'Asthma', 'KidneyDisease', 'SkinCancer']] = \\\n",
    "    heart[['HeartDisease', 'Smoking', 'AlcoholDrinking', 'Stroke', 'DiffWalking', 'Diabetic', 'PhysicalActivity', 'Asthma', 'KidneyDisease', 'SkinCancer']].replace(['Yes', 'No'], value=[True, False])\n",
    "\n",
    "heart[['HeartDisease', 'Smoking', 'AlcoholDrinking', 'Stroke', 'DiffWalking', 'Diabetic', 'PhysicalActivity', 'Asthma', 'KidneyDisease', 'SkinCancer']] = \\\n",
    "    heart[['HeartDisease', 'Smoking', 'AlcoholDrinking', 'Stroke', 'DiffWalking', 'Diabetic', 'PhysicalActivity', 'Asthma', 'KidneyDisease', 'SkinCancer']].astype(bool)"
   ]
  },
  {
   "cell_type": "code",
   "execution_count": 4,
   "metadata": {},
   "outputs": [],
   "source": [
    "# associate int values to general health strings\n",
    "heart['GenHealth'].replace(['Excellent', 'Very good', 'Good', 'Fair', 'Poor'], value=[4, 3, 2, 1, 0], inplace=True)\n",
    "heart['GenHealth'] = heart['GenHealth'].astype(int)"
   ]
  },
  {
   "cell_type": "code",
   "execution_count": 5,
   "metadata": {},
   "outputs": [],
   "source": [
    "heart['Sex'].replace(['Female', 'Male'], value=[0, 1], inplace=True)\n",
    "heart['Sex'] = heart['Sex'].astype(int)"
   ]
  },
  {
   "cell_type": "code",
   "execution_count": 6,
   "metadata": {},
   "outputs": [],
   "source": [
    "heart['Race'].replace(heart['Race'].unique(), value=list(range(0, len(heart['Race'].unique()))), inplace=True)\n",
    "heart['Race'] = heart['Race'].astype(int)"
   ]
  },
  {
   "cell_type": "code",
   "execution_count": 7,
   "metadata": {},
   "outputs": [],
   "source": [
    "categories = heart['AgeCategory'].unique()\n",
    "categories.sort()\n",
    "heart['AgeCategory'].replace(categories, value=list(range(0, len(categories))), inplace=True)\n",
    "heart['AgeCategory'] = heart['AgeCategory'].astype(int)"
   ]
  },
  {
   "cell_type": "code",
   "execution_count": 8,
   "metadata": {},
   "outputs": [],
   "source": [
    "heart.to_csv('../data/heart_cleaned.csv')"
   ]
  },
  {
   "cell_type": "markdown",
   "metadata": {},
   "source": [
    "# Model training"
   ]
  },
  {
   "cell_type": "code",
   "execution_count": 8,
   "metadata": {},
   "outputs": [],
   "source": [
    "from sklearn import datasets\n",
    "from sklearn.decomposition import PCA\n",
    "from sklearn.utils import Bunch"
   ]
  },
  {
   "cell_type": "code",
   "execution_count": 9,
   "metadata": {},
   "outputs": [],
   "source": [
    "heart_model_data = Bunch()\n",
    "heart_model_data['target'] = heart['HeartDisease'].to_list()\n",
    "heart.drop(columns=['HeartDisease'], inplace=True)\n",
    "heart_model_data['data'] = heart.values.tolist()\n",
    "heart_model_data['feature_names'] = heart.columns.to_list()\n",
    "heart_model_data['target_names'] = ['No', 'Yes']"
   ]
  },
  {
   "cell_type": "markdown",
   "metadata": {},
   "source": [
    "## K nearest neighbors (kNN) "
   ]
  },
  {
   "cell_type": "code",
   "execution_count": 70,
   "metadata": {},
   "outputs": [],
   "source": [
    "from sklearn import neighbors"
   ]
  },
  {
   "cell_type": "code",
   "execution_count": 244,
   "metadata": {},
   "outputs": [],
   "source": [
    "LIMIT=1000\n",
    "\n",
    "def try_neighbors():\n",
    "    X = heart_model_data.data\n",
    "    y = heart_model_data.target\n",
    "\n",
    "    error_rate = []\n",
    "\n",
    "    for i in range(1, 30):\n",
    "        knn = neighbors.KNeighborsClassifier(n_neighbors=i)\n",
    "        knn.fit(X, y)\n",
    "        pred_i = knn.predict(X[:LIMIT])\n",
    "        error_rate.append(np.mean(pred_i != y[:LIMIT]))\n",
    "\n",
    "    return knn, error_rate\n",
    "\n",
    "knn, error_rate = try_neighbors()"
   ]
  },
  {
   "cell_type": "code",
   "execution_count": 71,
   "metadata": {},
   "outputs": [],
   "source": [
    "def try_neighbors():\n",
    "    X = heart_model_data.data\n",
    "    y = heart_model_data.target\n",
    "\n",
    "    knn = neighbors.KNeighborsClassifier(n_neighbors=5)\n",
    "    knn.fit(X, y)\n",
    "\n",
    "    return knn\n",
    "\n",
    "knn = try_neighbors()"
   ]
  },
  {
   "cell_type": "code",
   "execution_count": 32,
   "metadata": {},
   "outputs": [],
   "source": [
    "test = [[20, True, True, False, 0.0, 0.0, False, 0, 5, 0, False, True, 3, 7.0, False, False, False],  # didn't have\n",
    "[28.87, True, False, False, 6.0, 0.0, True, 0, 11, 1, False, False, 1, 12.0, False, False, False] ] # had "
   ]
  },
  {
   "cell_type": "code",
   "execution_count": 72,
   "metadata": {},
   "outputs": [
    {
     "data": {
      "text/plain": [
       "array([[1. , 0. ],\n",
       "       [0.4, 0.6]])"
      ]
     },
     "execution_count": 72,
     "metadata": {},
     "output_type": "execute_result"
    }
   ],
   "source": [
    "knn.predict_proba(test)"
   ]
  },
  {
   "cell_type": "code",
   "execution_count": 10,
   "metadata": {},
   "outputs": [],
   "source": [
    "import matplotlib.pyplot as plt"
   ]
  },
  {
   "cell_type": "code",
   "execution_count": 249,
   "metadata": {},
   "outputs": [
    {
     "name": "stdout",
     "output_type": "stream",
     "text": [
      "Legkisebb hiba: 0.0, ahol n_neighbours = 1\n"
     ]
    },
    {
     "data": {
      "image/png": "[encoded data removed]",
      "text/plain": [
       "<Figure size 864x576 with 1 Axes>"
      ]
     },
     "metadata": {
      "needs_background": "light"
     },
     "output_type": "display_data"
    }
   ],
   "source": [
    "plt.figure(figsize=(12, 8))\n",
    "plt.plot(range(1, 30), error_rate, color='blue', linestyle='dashed',\n",
    "         marker='o', markerfacecolor='orange', markersize=8)\n",
    "plt.title('Optimalis n_neighbours')\n",
    "plt.xlabel('n_neighbours')\n",
    "plt.ylabel('Hibarata')\n",
    "req_k_value = error_rate.index(min(error_rate)) + 1\n",
    "print(f'Legkisebb hiba: {min(error_rate)}, ahol n_neighbours = {req_k_value}')"
   ]
  },
  {
   "cell_type": "markdown",
   "metadata": {},
   "source": [
    "## SVC"
   ]
  },
  {
   "cell_type": "code",
   "execution_count": 11,
   "metadata": {},
   "outputs": [],
   "source": [
    "from sklearn.svm import SVC\n",
    "from sklearn.preprocessing import StandardScaler\n",
    "from sklearn.pipeline import make_pipeline"
   ]
  },
  {
   "cell_type": "code",
   "execution_count": 77,
   "metadata": {},
   "outputs": [
    {
     "name": "stderr",
     "output_type": "stream",
     "text": [
      "C:\\Users\\rockd\\AppData\\Local\\Programs\\Python\\Python310\\lib\\site-packages\\sklearn\\svm\\_base.py:284: ConvergenceWarning: Solver terminated early (max_iter=3128).  Consider pre-processing your data with StandardScaler or MinMaxScaler.\n",
      "  warnings.warn(\n"
     ]
    }
   ],
   "source": [
    "def try_svc():\n",
    "    X = heart_model_data.data\n",
    "    y = heart_model_data.target\n",
    "\n",
    "    svc = make_pipeline(StandardScaler(), SVC(max_iter=np.ceil(10**9 / len(heart_model_data.data)), probability=True))\n",
    "    svc.fit(X, y)\n",
    "\n",
    "    return svc\n",
    "\n",
    "svc = try_svc()"
   ]
  },
  {
   "cell_type": "code",
   "execution_count": 78,
   "metadata": {},
   "outputs": [
    {
     "data": {
      "text/plain": [
       "array([[0.926327  , 0.073673  ],\n",
       "       [0.93060215, 0.06939785]])"
      ]
     },
     "execution_count": 78,
     "metadata": {},
     "output_type": "execute_result"
    }
   ],
   "source": [
    "svc.predict_proba(test)"
   ]
  },
  {
   "cell_type": "markdown",
   "metadata": {},
   "source": [
    "## SGD"
   ]
  },
  {
   "cell_type": "code",
   "execution_count": 79,
   "metadata": {},
   "outputs": [],
   "source": [
    "from sklearn.linear_model import SGDClassifier\n",
    "from sklearn.preprocessing import StandardScaler\n",
    "from sklearn.pipeline import make_pipeline\n"
   ]
  },
  {
   "cell_type": "code",
   "execution_count": 84,
   "metadata": {},
   "outputs": [],
   "source": [
    "def try_SGD():\n",
    "    X = heart_model_data.data\n",
    "    y = heart_model_data.target\n",
    "\n",
    "    clf = make_pipeline(StandardScaler(), SGDClassifier(loss='modified_huber', penalty='elasticnet', tol=1e-6, max_iter=np.ceil(10**8 / len(heart_model_data.data))))\n",
    "    clf.fit(X, y)\n",
    "\n",
    "    return clf\n",
    "\n",
    "sgd = try_SGD()"
   ]
  },
  {
   "cell_type": "code",
   "execution_count": 89,
   "metadata": {},
   "outputs": [
    {
     "data": {
      "text/plain": [
       "array([[1.       , 0.       ],\n",
       "       [0.7685375, 0.2314625]])"
      ]
     },
     "execution_count": 89,
     "metadata": {},
     "output_type": "execute_result"
    }
   ],
   "source": [
    "sgd.predict_proba(test)"
   ]
  }
 ],
 "metadata": {
  "interpreter": {
   "hash": "d41e7f9cec6053ad9d66317e7c2a8e67a44fb9eda798af17b5d260bed16822d1"
  },
  "kernelspec": {
   "display_name": "Python 3.10.1 64-bit",
   "language": "python",
   "name": "python3"
  },
  "language_info": {
   "codemirror_mode": {
    "name": "ipython",
    "version": 3
   },
   "file_extension": ".py",
   "mimetype": "text/x-python",
   "name": "python",
   "nbconvert_exporter": "python",
   "pygments_lexer": "ipython3",
   "version": "3.10.1"
  },
  "orig_nbformat": 4
 },
 "nbformat": 4,
 "nbformat_minor": 2
}
